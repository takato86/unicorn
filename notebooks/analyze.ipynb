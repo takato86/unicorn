{
 "metadata": {
  "language_info": {
   "codemirror_mode": {
    "name": "ipython",
    "version": 3
   },
   "file_extension": ".py",
   "mimetype": "text/x-python",
   "name": "python",
   "nbconvert_exporter": "python",
   "pygments_lexer": "ipython3",
   "version": "3.6.12-final"
  },
  "orig_nbformat": 2,
  "kernelspec": {
   "name": "python3",
   "display_name": "Python 3.6.12 64-bit",
   "metadata": {
    "interpreter": {
     "hash": "b97c5695407eb316ed773bbd4ea02e9f8be0704d3fbd68fc60dc5f1c707390c5"
    }
   }
  }
 },
 "nbformat": 4,
 "nbformat_minor": 2,
 "cells": [
  {
   "cell_type": "code",
   "execution_count": 1,
   "metadata": {},
   "outputs": [],
   "source": [
    "import pandas as pd\n",
    "import numpy as np\n",
    "import os\n",
    "import networkx as nx\n",
    "import grina\n",
    "import matplotlib.pyplot as plt"
   ]
  },
  {
   "cell_type": "code",
   "execution_count": 2,
   "metadata": {},
   "outputs": [],
   "source": [
    "fpath = os.path.join(\"..\", \"data\", \"unicorn_company_invester.csv\")\n",
    "df = pd.read_csv(fpath, converters={\"Select Investors\": lambda x: x.split(\",\")})"
   ]
  },
  {
   "cell_type": "code",
   "execution_count": 3,
   "metadata": {},
   "outputs": [
    {
     "output_type": "execute_result",
     "data": {
      "text/plain": [
       "     Company Valuation($B) Date Joined        Country  \\\n",
       "0  100credit           $1    4/18/2018          China   \n",
       "1    17zuoye           $1     3/7/2018          China   \n",
       "2    23andMe        $2.50     7/3/2015  United States   \n",
       "3  4Paradigm           $2   12/19/2018          China   \n",
       "4  58 Daojia           $1   10/12/2015          China   \n",
       "\n",
       "                       Industry  \\\n",
       "0                       Fintech   \n",
       "1                        Edtech   \n",
       "2                        Health   \n",
       "3       Artificial intelligence   \n",
       "4  Internet software & services   \n",
       "\n",
       "                                    Select Investors  \n",
       "0  [Sequoia Capital China,  China Reform Fund,  H...  \n",
       "1                    [DST Global,  Temasek Holdings]  \n",
       "2  [Google Ventures,  New Enterprise Associates, ...  \n",
       "3  [Sequoia Capital China,  China Construction Ba...  \n",
       "4          [KKR,  Alibaba Group,  Ping An Insurance]  "
      ],
      "text/html": "<div>\n<style scoped>\n    .dataframe tbody tr th:only-of-type {\n        vertical-align: middle;\n    }\n\n    .dataframe tbody tr th {\n        vertical-align: top;\n    }\n\n    .dataframe thead th {\n        text-align: right;\n    }\n</style>\n<table border=\"1\" class=\"dataframe\">\n  <thead>\n    <tr style=\"text-align: right;\">\n      <th></th>\n      <th>Company</th>\n      <th>Valuation($B)</th>\n      <th>Date Joined</th>\n      <th>Country</th>\n      <th>Industry</th>\n      <th>Select Investors</th>\n    </tr>\n  </thead>\n  <tbody>\n    <tr>\n      <th>0</th>\n      <td>100credit</td>\n      <td>$1</td>\n      <td>4/18/2018</td>\n      <td>China</td>\n      <td>Fintech</td>\n      <td>[Sequoia Capital China,  China Reform Fund,  H...</td>\n    </tr>\n    <tr>\n      <th>1</th>\n      <td>17zuoye</td>\n      <td>$1</td>\n      <td>3/7/2018</td>\n      <td>China</td>\n      <td>Edtech</td>\n      <td>[DST Global,  Temasek Holdings]</td>\n    </tr>\n    <tr>\n      <th>2</th>\n      <td>23andMe</td>\n      <td>$2.50</td>\n      <td>7/3/2015</td>\n      <td>United States</td>\n      <td>Health</td>\n      <td>[Google Ventures,  New Enterprise Associates, ...</td>\n    </tr>\n    <tr>\n      <th>3</th>\n      <td>4Paradigm</td>\n      <td>$2</td>\n      <td>12/19/2018</td>\n      <td>China</td>\n      <td>Artificial intelligence</td>\n      <td>[Sequoia Capital China,  China Construction Ba...</td>\n    </tr>\n    <tr>\n      <th>4</th>\n      <td>58 Daojia</td>\n      <td>$1</td>\n      <td>10/12/2015</td>\n      <td>China</td>\n      <td>Internet software &amp; services</td>\n      <td>[KKR,  Alibaba Group,  Ping An Insurance]</td>\n    </tr>\n  </tbody>\n</table>\n</div>"
     },
     "metadata": {},
     "execution_count": 3
    }
   ],
   "source": [
    "df.head()"
   ]
  },
  {
   "cell_type": "code",
   "execution_count": 4,
   "metadata": {},
   "outputs": [],
   "source": [
    "r_comps, r_invests = [], []\n",
    "for company, investors in df[[\"Company\", \"Select Investors\"]].values.tolist():\n",
    "    n_rows = len(investors)\n",
    "    comps = np.full(n_rows, company)\n",
    "    r_comps += comps.tolist()\n",
    "    r_invests += investors"
   ]
  },
  {
   "cell_type": "code",
   "execution_count": 5,
   "metadata": {},
   "outputs": [
    {
     "output_type": "execute_result",
     "data": {
      "text/plain": [
       "        Company                      Investors\n",
       "0     100credit          Sequoia Capital China\n",
       "1     100credit              China Reform Fund\n",
       "2     100credit   Hillhouse Capital Management\n",
       "3       17zuoye                     DST Global\n",
       "4       17zuoye               Temasek Holdings\n",
       "...         ...                            ...\n",
       "1381      Zwift                           True\n",
       "1382      Zwift        Causeway Media Partners\n",
       "1383   Zymergen                Data Collective\n",
       "1384   Zymergen                  True Ventures\n",
       "1385   Zymergen                 SoftBank Group\n",
       "\n",
       "[1386 rows x 2 columns]"
      ],
      "text/html": "<div>\n<style scoped>\n    .dataframe tbody tr th:only-of-type {\n        vertical-align: middle;\n    }\n\n    .dataframe tbody tr th {\n        vertical-align: top;\n    }\n\n    .dataframe thead th {\n        text-align: right;\n    }\n</style>\n<table border=\"1\" class=\"dataframe\">\n  <thead>\n    <tr style=\"text-align: right;\">\n      <th></th>\n      <th>Company</th>\n      <th>Investors</th>\n    </tr>\n  </thead>\n  <tbody>\n    <tr>\n      <th>0</th>\n      <td>100credit</td>\n      <td>Sequoia Capital China</td>\n    </tr>\n    <tr>\n      <th>1</th>\n      <td>100credit</td>\n      <td>China Reform Fund</td>\n    </tr>\n    <tr>\n      <th>2</th>\n      <td>100credit</td>\n      <td>Hillhouse Capital Management</td>\n    </tr>\n    <tr>\n      <th>3</th>\n      <td>17zuoye</td>\n      <td>DST Global</td>\n    </tr>\n    <tr>\n      <th>4</th>\n      <td>17zuoye</td>\n      <td>Temasek Holdings</td>\n    </tr>\n    <tr>\n      <th>...</th>\n      <td>...</td>\n      <td>...</td>\n    </tr>\n    <tr>\n      <th>1381</th>\n      <td>Zwift</td>\n      <td>True</td>\n    </tr>\n    <tr>\n      <th>1382</th>\n      <td>Zwift</td>\n      <td>Causeway Media Partners</td>\n    </tr>\n    <tr>\n      <th>1383</th>\n      <td>Zymergen</td>\n      <td>Data Collective</td>\n    </tr>\n    <tr>\n      <th>1384</th>\n      <td>Zymergen</td>\n      <td>True Ventures</td>\n    </tr>\n    <tr>\n      <th>1385</th>\n      <td>Zymergen</td>\n      <td>SoftBank Group</td>\n    </tr>\n  </tbody>\n</table>\n<p>1386 rows × 2 columns</p>\n</div>"
     },
     "metadata": {},
     "execution_count": 5
    }
   ],
   "source": [
    "rdf = pd.DataFrame()\n",
    "rdf[\"Company\"] = np.array(r_comps)\n",
    "rdf[\"Investors\"] = np.array(r_invests)\n",
    "rdf"
   ]
  },
  {
   "cell_type": "code",
   "execution_count": 6,
   "metadata": {},
   "outputs": [],
   "source": [
    "B = nx.Graph()"
   ]
  },
  {
   "cell_type": "code",
   "execution_count": 7,
   "metadata": {},
   "outputs": [],
   "source": [
    "B.add_nodes_from(rdf[\"Company\"].unique().tolist(), bipartite=0)\n",
    "B.add_nodes_from(rdf[\"Investors\"].unique().tolist(), bipartite=1)"
   ]
  },
  {
   "cell_type": "code",
   "execution_count": 8,
   "metadata": {},
   "outputs": [],
   "source": [
    "edges = [(comp, inve) for comp, inve in zip(rdf[\"Company\"], rdf[\"Investors\"])]\n",
    "B.add_edges_from(edges)"
   ]
  },
  {
   "cell_type": "code",
   "execution_count": 9,
   "metadata": {},
   "outputs": [],
   "source": [
    "from networkx.algorithms import bipartite\n",
    "company_graph = bipartite.projected_graph(B, set(rdf[\"Company\"].tolist()))\n",
    "investor_graph = bipartite.projected_graph(B, set(rdf[\"Investors\"].tolist()))"
   ]
  },
  {
   "source": [
    "# 中心性\n",
    "## 投資家のグラフ"
   ],
   "cell_type": "markdown",
   "metadata": {}
  },
  {
   "cell_type": "code",
   "execution_count": 10,
   "metadata": {},
   "outputs": [],
   "source": [
    "degrees = nx.degree_centrality(investor_graph)\n",
    "betweens = nx.betweenness_centrality(investor_graph)\n",
    "eigens = nx.eigenvector_centrality(investor_graph)\n",
    "closeness = nx.closeness_centrality(investor_graph)\n",
    "centra_dict = {\n",
    "    \"Degree Centrality\": degrees,\n",
    "    \"Betweenness Centrality\": betweens,\n",
    "    \"Eigen Centrality\": eigens,\n",
    "    \"Closeness Centrality\": closeness\n",
    "}"
   ]
  },
  {
   "cell_type": "code",
   "execution_count": 11,
   "metadata": {},
   "outputs": [
    {
     "output_type": "execute_result",
     "data": {
      "text/plain": [
       "                                 Degree Centrality  Betweenness Centrality  \\\n",
       "                                          0.004790                0.000000   \n",
       " Google                                   0.005988                0.001305   \n",
       " Institutional Venture Partners           0.019162                0.022605   \n",
       " DN Capital                               0.003593                0.000000   \n",
       "Nexus Venture Partners                    0.004790                0.004089   \n",
       "...                                            ...                     ...   \n",
       "Razorpay                                  0.001198                0.000000   \n",
       "SentinelOne                               0.001198                0.000000   \n",
       "Freshworks                                0.001198                0.000000   \n",
       "TechStyle Fashion Group                   0.001198                0.000000   \n",
       "Allbirds                                  0.001198                0.000000   \n",
       "\n",
       "                                 Eigen Centrality  Closeness Centrality  \n",
       "                                     2.620169e-02              0.159262  \n",
       " Google                              2.269115e-02              0.164151  \n",
       " Institutional Venture Partners      9.625005e-02              0.203694  \n",
       " DN Capital                          2.341049e-02              0.153740  \n",
       "Nexus Venture Partners               5.364067e-02              0.178407  \n",
       "...                                           ...                   ...  \n",
       "Razorpay                             1.796382e-13              0.009292  \n",
       "SentinelOne                          1.796382e-13              0.009292  \n",
       "Freshworks                           1.796382e-13              0.009292  \n",
       "TechStyle Fashion Group              1.796382e-13              0.009292  \n",
       "Allbirds                             1.796382e-13              0.009292  \n",
       "\n",
       "[836 rows x 4 columns]"
      ],
      "text/html": "<div>\n<style scoped>\n    .dataframe tbody tr th:only-of-type {\n        vertical-align: middle;\n    }\n\n    .dataframe tbody tr th {\n        vertical-align: top;\n    }\n\n    .dataframe thead th {\n        text-align: right;\n    }\n</style>\n<table border=\"1\" class=\"dataframe\">\n  <thead>\n    <tr style=\"text-align: right;\">\n      <th></th>\n      <th>Degree Centrality</th>\n      <th>Betweenness Centrality</th>\n      <th>Eigen Centrality</th>\n      <th>Closeness Centrality</th>\n    </tr>\n  </thead>\n  <tbody>\n    <tr>\n      <th></th>\n      <td>0.004790</td>\n      <td>0.000000</td>\n      <td>2.620169e-02</td>\n      <td>0.159262</td>\n    </tr>\n    <tr>\n      <th>Google</th>\n      <td>0.005988</td>\n      <td>0.001305</td>\n      <td>2.269115e-02</td>\n      <td>0.164151</td>\n    </tr>\n    <tr>\n      <th>Institutional Venture Partners</th>\n      <td>0.019162</td>\n      <td>0.022605</td>\n      <td>9.625005e-02</td>\n      <td>0.203694</td>\n    </tr>\n    <tr>\n      <th>DN Capital</th>\n      <td>0.003593</td>\n      <td>0.000000</td>\n      <td>2.341049e-02</td>\n      <td>0.153740</td>\n    </tr>\n    <tr>\n      <th>Nexus Venture Partners</th>\n      <td>0.004790</td>\n      <td>0.004089</td>\n      <td>5.364067e-02</td>\n      <td>0.178407</td>\n    </tr>\n    <tr>\n      <th>...</th>\n      <td>...</td>\n      <td>...</td>\n      <td>...</td>\n      <td>...</td>\n    </tr>\n    <tr>\n      <th>Razorpay</th>\n      <td>0.001198</td>\n      <td>0.000000</td>\n      <td>1.796382e-13</td>\n      <td>0.009292</td>\n    </tr>\n    <tr>\n      <th>SentinelOne</th>\n      <td>0.001198</td>\n      <td>0.000000</td>\n      <td>1.796382e-13</td>\n      <td>0.009292</td>\n    </tr>\n    <tr>\n      <th>Freshworks</th>\n      <td>0.001198</td>\n      <td>0.000000</td>\n      <td>1.796382e-13</td>\n      <td>0.009292</td>\n    </tr>\n    <tr>\n      <th>TechStyle Fashion Group</th>\n      <td>0.001198</td>\n      <td>0.000000</td>\n      <td>1.796382e-13</td>\n      <td>0.009292</td>\n    </tr>\n    <tr>\n      <th>Allbirds</th>\n      <td>0.001198</td>\n      <td>0.000000</td>\n      <td>1.796382e-13</td>\n      <td>0.009292</td>\n    </tr>\n  </tbody>\n</table>\n<p>836 rows × 4 columns</p>\n</div>"
     },
     "metadata": {},
     "execution_count": 11
    }
   ],
   "source": [
    "investor_centrality_df = pd.DataFrame.from_dict(centra_dict)\n",
    "investor_centrality_df"
   ]
  },
  {
   "cell_type": "code",
   "execution_count": 12,
   "metadata": {},
   "outputs": [
    {
     "output_type": "execute_result",
     "data": {
      "text/plain": [
       "                                   Degree Centrality  Betweenness Centrality  \\\n",
       " Sequoia Capital                            0.041916                0.064391   \n",
       "Sequoia Capital China                       0.041916                0.067022   \n",
       " IDG Capital                                0.032335                0.037174   \n",
       " Kleiner Perkins Caufield & Byers           0.027545                0.032677   \n",
       "Andreessen Horowitz                         0.026347                0.053940   \n",
       "...                                              ...                     ...   \n",
       "Pacific Century Group                       0.000000                0.000000   \n",
       "N/A                                         0.000000                0.000000   \n",
       "ICG                                         0.000000                0.000000   \n",
       "Iconiq Capital                              0.000000                0.000000   \n",
       "GCP Capital Partners                        0.000000                0.000000   \n",
       "\n",
       "                                   Eigen Centrality  Closeness Centrality  \n",
       " Sequoia Capital                       3.455255e-01              0.221164  \n",
       "Sequoia Capital China                  1.768815e-01              0.215144  \n",
       " IDG Capital                           1.057674e-01              0.187420  \n",
       " Kleiner Perkins Caufield & Byers      1.605568e-01              0.207412  \n",
       "Andreessen Horowitz                    1.657555e-01              0.214005  \n",
       "...                                             ...                   ...  \n",
       "Pacific Century Group                  5.489192e-39              0.000000  \n",
       "N/A                                    5.489192e-39              0.000000  \n",
       "ICG                                    5.489192e-39              0.000000  \n",
       "Iconiq Capital                         5.489192e-39              0.000000  \n",
       "GCP Capital Partners                   5.489192e-39              0.000000  \n",
       "\n",
       "[836 rows x 4 columns]"
      ],
      "text/html": "<div>\n<style scoped>\n    .dataframe tbody tr th:only-of-type {\n        vertical-align: middle;\n    }\n\n    .dataframe tbody tr th {\n        vertical-align: top;\n    }\n\n    .dataframe thead th {\n        text-align: right;\n    }\n</style>\n<table border=\"1\" class=\"dataframe\">\n  <thead>\n    <tr style=\"text-align: right;\">\n      <th></th>\n      <th>Degree Centrality</th>\n      <th>Betweenness Centrality</th>\n      <th>Eigen Centrality</th>\n      <th>Closeness Centrality</th>\n    </tr>\n  </thead>\n  <tbody>\n    <tr>\n      <th>Sequoia Capital</th>\n      <td>0.041916</td>\n      <td>0.064391</td>\n      <td>3.455255e-01</td>\n      <td>0.221164</td>\n    </tr>\n    <tr>\n      <th>Sequoia Capital China</th>\n      <td>0.041916</td>\n      <td>0.067022</td>\n      <td>1.768815e-01</td>\n      <td>0.215144</td>\n    </tr>\n    <tr>\n      <th>IDG Capital</th>\n      <td>0.032335</td>\n      <td>0.037174</td>\n      <td>1.057674e-01</td>\n      <td>0.187420</td>\n    </tr>\n    <tr>\n      <th>Kleiner Perkins Caufield &amp; Byers</th>\n      <td>0.027545</td>\n      <td>0.032677</td>\n      <td>1.605568e-01</td>\n      <td>0.207412</td>\n    </tr>\n    <tr>\n      <th>Andreessen Horowitz</th>\n      <td>0.026347</td>\n      <td>0.053940</td>\n      <td>1.657555e-01</td>\n      <td>0.214005</td>\n    </tr>\n    <tr>\n      <th>...</th>\n      <td>...</td>\n      <td>...</td>\n      <td>...</td>\n      <td>...</td>\n    </tr>\n    <tr>\n      <th>Pacific Century Group</th>\n      <td>0.000000</td>\n      <td>0.000000</td>\n      <td>5.489192e-39</td>\n      <td>0.000000</td>\n    </tr>\n    <tr>\n      <th>N/A</th>\n      <td>0.000000</td>\n      <td>0.000000</td>\n      <td>5.489192e-39</td>\n      <td>0.000000</td>\n    </tr>\n    <tr>\n      <th>ICG</th>\n      <td>0.000000</td>\n      <td>0.000000</td>\n      <td>5.489192e-39</td>\n      <td>0.000000</td>\n    </tr>\n    <tr>\n      <th>Iconiq Capital</th>\n      <td>0.000000</td>\n      <td>0.000000</td>\n      <td>5.489192e-39</td>\n      <td>0.000000</td>\n    </tr>\n    <tr>\n      <th>GCP Capital Partners</th>\n      <td>0.000000</td>\n      <td>0.000000</td>\n      <td>5.489192e-39</td>\n      <td>0.000000</td>\n    </tr>\n  </tbody>\n</table>\n<p>836 rows × 4 columns</p>\n</div>"
     },
     "metadata": {},
     "execution_count": 12
    }
   ],
   "source": [
    "investor_centrality_df.sort_values(by=\"Degree Centrality\", ascending=False)"
   ]
  },
  {
   "source": [
    "Sequoia Capitalが最も他の投資家と一緒にユニコーン企業に投資を行っている。"
   ],
   "cell_type": "markdown",
   "metadata": {}
  },
  {
   "cell_type": "code",
   "execution_count": 13,
   "metadata": {},
   "outputs": [
    {
     "output_type": "execute_result",
     "data": {
      "text/plain": [
       "                                     Degree Centrality  \\\n",
       "Sequoia Capital China                         0.041916   \n",
       " Sequoia Capital                              0.041916   \n",
       "Andreessen Horowitz                           0.026347   \n",
       " Goldman Sachs                                0.025150   \n",
       " IDG Capital                                  0.032335   \n",
       "...                                                ...   \n",
       " Northern Light Venture Capital               0.002395   \n",
       " Haitong Leading Capital Management           0.002395   \n",
       "China Creation Ventures                       0.002395   \n",
       " Tus Holdings                                 0.002395   \n",
       "Allbirds                                      0.001198   \n",
       "\n",
       "                                     Betweenness Centrality  Eigen Centrality  \\\n",
       "Sequoia Capital China                              0.067022      1.768815e-01   \n",
       " Sequoia Capital                                   0.064391      3.455255e-01   \n",
       "Andreessen Horowitz                                0.053940      1.657555e-01   \n",
       " Goldman Sachs                                     0.046641      1.155754e-01   \n",
       " IDG Capital                                       0.037174      1.057674e-01   \n",
       "...                                                     ...               ...   \n",
       " Northern Light Venture Capital                    0.000000      9.424583e-03   \n",
       " Haitong Leading Capital Management                0.000000      2.471695e-21   \n",
       "China Creation Ventures                            0.000000      2.471695e-21   \n",
       " Tus Holdings                                      0.000000      1.319847e-02   \n",
       "Allbirds                                           0.000000      1.796382e-13   \n",
       "\n",
       "                                     Closeness Centrality  \n",
       "Sequoia Capital China                            0.215144  \n",
       " Sequoia Capital                                 0.221164  \n",
       "Andreessen Horowitz                              0.214005  \n",
       " Goldman Sachs                                   0.208842  \n",
       " IDG Capital                                     0.187420  \n",
       "...                                                   ...  \n",
       " Northern Light Venture Capital                  0.149812  \n",
       " Haitong Leading Capital Management              0.002395  \n",
       "China Creation Ventures                          0.002395  \n",
       " Tus Holdings                                    0.150183  \n",
       "Allbirds                                         0.009292  \n",
       "\n",
       "[836 rows x 4 columns]"
      ],
      "text/html": "<div>\n<style scoped>\n    .dataframe tbody tr th:only-of-type {\n        vertical-align: middle;\n    }\n\n    .dataframe tbody tr th {\n        vertical-align: top;\n    }\n\n    .dataframe thead th {\n        text-align: right;\n    }\n</style>\n<table border=\"1\" class=\"dataframe\">\n  <thead>\n    <tr style=\"text-align: right;\">\n      <th></th>\n      <th>Degree Centrality</th>\n      <th>Betweenness Centrality</th>\n      <th>Eigen Centrality</th>\n      <th>Closeness Centrality</th>\n    </tr>\n  </thead>\n  <tbody>\n    <tr>\n      <th>Sequoia Capital China</th>\n      <td>0.041916</td>\n      <td>0.067022</td>\n      <td>1.768815e-01</td>\n      <td>0.215144</td>\n    </tr>\n    <tr>\n      <th>Sequoia Capital</th>\n      <td>0.041916</td>\n      <td>0.064391</td>\n      <td>3.455255e-01</td>\n      <td>0.221164</td>\n    </tr>\n    <tr>\n      <th>Andreessen Horowitz</th>\n      <td>0.026347</td>\n      <td>0.053940</td>\n      <td>1.657555e-01</td>\n      <td>0.214005</td>\n    </tr>\n    <tr>\n      <th>Goldman Sachs</th>\n      <td>0.025150</td>\n      <td>0.046641</td>\n      <td>1.155754e-01</td>\n      <td>0.208842</td>\n    </tr>\n    <tr>\n      <th>IDG Capital</th>\n      <td>0.032335</td>\n      <td>0.037174</td>\n      <td>1.057674e-01</td>\n      <td>0.187420</td>\n    </tr>\n    <tr>\n      <th>...</th>\n      <td>...</td>\n      <td>...</td>\n      <td>...</td>\n      <td>...</td>\n    </tr>\n    <tr>\n      <th>Northern Light Venture Capital</th>\n      <td>0.002395</td>\n      <td>0.000000</td>\n      <td>9.424583e-03</td>\n      <td>0.149812</td>\n    </tr>\n    <tr>\n      <th>Haitong Leading Capital Management</th>\n      <td>0.002395</td>\n      <td>0.000000</td>\n      <td>2.471695e-21</td>\n      <td>0.002395</td>\n    </tr>\n    <tr>\n      <th>China Creation Ventures</th>\n      <td>0.002395</td>\n      <td>0.000000</td>\n      <td>2.471695e-21</td>\n      <td>0.002395</td>\n    </tr>\n    <tr>\n      <th>Tus Holdings</th>\n      <td>0.002395</td>\n      <td>0.000000</td>\n      <td>1.319847e-02</td>\n      <td>0.150183</td>\n    </tr>\n    <tr>\n      <th>Allbirds</th>\n      <td>0.001198</td>\n      <td>0.000000</td>\n      <td>1.796382e-13</td>\n      <td>0.009292</td>\n    </tr>\n  </tbody>\n</table>\n<p>836 rows × 4 columns</p>\n</div>"
     },
     "metadata": {},
     "execution_count": 13
    }
   ],
   "source": [
    "investor_centrality_df.sort_values(by=\"Betweenness Centrality\", ascending=False)"
   ]
  },
  {
   "source": [
    "Sequoia Capital Chainaが最も媒介性が高かった。他の投資家同士を繋げることができるという解釈？"
   ],
   "cell_type": "markdown",
   "metadata": {}
  },
  {
   "cell_type": "code",
   "execution_count": 14,
   "metadata": {},
   "outputs": [
    {
     "output_type": "execute_result",
     "data": {
      "text/plain": [
       "                        Degree Centrality  Betweenness Centrality  \\\n",
       " Sequoia Capital                 0.041916                0.064391   \n",
       "Sequoia Capital China            0.041916                0.067022   \n",
       "Andreessen Horowitz              0.026347                0.053940   \n",
       " General Catalyst                0.019162                0.032122   \n",
       " Andreessen Horowitz             0.022754                0.032861   \n",
       "...                                   ...                     ...   \n",
       "ICG                              0.000000                0.000000   \n",
       "EQT Partners                     0.000000                0.000000   \n",
       "Iconiq Capital                   0.000000                0.000000   \n",
       "CDIB Capital                     0.000000                0.000000   \n",
       "Alibaba Pictures Group           0.000000                0.000000   \n",
       "\n",
       "                        Eigen Centrality  Closeness Centrality  \n",
       " Sequoia Capital            3.455255e-01              0.221164  \n",
       "Sequoia Capital China       1.768815e-01              0.215144  \n",
       "Andreessen Horowitz         1.657555e-01              0.214005  \n",
       " General Catalyst           1.372923e-01              0.211269  \n",
       " Andreessen Horowitz        2.098339e-01              0.210170  \n",
       "...                                  ...                   ...  \n",
       "ICG                         5.489192e-39              0.000000  \n",
       "EQT Partners                5.489192e-39              0.000000  \n",
       "Iconiq Capital              5.489192e-39              0.000000  \n",
       "CDIB Capital                5.489192e-39              0.000000  \n",
       "Alibaba Pictures Group      5.489192e-39              0.000000  \n",
       "\n",
       "[836 rows x 4 columns]"
      ],
      "text/html": "<div>\n<style scoped>\n    .dataframe tbody tr th:only-of-type {\n        vertical-align: middle;\n    }\n\n    .dataframe tbody tr th {\n        vertical-align: top;\n    }\n\n    .dataframe thead th {\n        text-align: right;\n    }\n</style>\n<table border=\"1\" class=\"dataframe\">\n  <thead>\n    <tr style=\"text-align: right;\">\n      <th></th>\n      <th>Degree Centrality</th>\n      <th>Betweenness Centrality</th>\n      <th>Eigen Centrality</th>\n      <th>Closeness Centrality</th>\n    </tr>\n  </thead>\n  <tbody>\n    <tr>\n      <th>Sequoia Capital</th>\n      <td>0.041916</td>\n      <td>0.064391</td>\n      <td>3.455255e-01</td>\n      <td>0.221164</td>\n    </tr>\n    <tr>\n      <th>Sequoia Capital China</th>\n      <td>0.041916</td>\n      <td>0.067022</td>\n      <td>1.768815e-01</td>\n      <td>0.215144</td>\n    </tr>\n    <tr>\n      <th>Andreessen Horowitz</th>\n      <td>0.026347</td>\n      <td>0.053940</td>\n      <td>1.657555e-01</td>\n      <td>0.214005</td>\n    </tr>\n    <tr>\n      <th>General Catalyst</th>\n      <td>0.019162</td>\n      <td>0.032122</td>\n      <td>1.372923e-01</td>\n      <td>0.211269</td>\n    </tr>\n    <tr>\n      <th>Andreessen Horowitz</th>\n      <td>0.022754</td>\n      <td>0.032861</td>\n      <td>2.098339e-01</td>\n      <td>0.210170</td>\n    </tr>\n    <tr>\n      <th>...</th>\n      <td>...</td>\n      <td>...</td>\n      <td>...</td>\n      <td>...</td>\n    </tr>\n    <tr>\n      <th>ICG</th>\n      <td>0.000000</td>\n      <td>0.000000</td>\n      <td>5.489192e-39</td>\n      <td>0.000000</td>\n    </tr>\n    <tr>\n      <th>EQT Partners</th>\n      <td>0.000000</td>\n      <td>0.000000</td>\n      <td>5.489192e-39</td>\n      <td>0.000000</td>\n    </tr>\n    <tr>\n      <th>Iconiq Capital</th>\n      <td>0.000000</td>\n      <td>0.000000</td>\n      <td>5.489192e-39</td>\n      <td>0.000000</td>\n    </tr>\n    <tr>\n      <th>CDIB Capital</th>\n      <td>0.000000</td>\n      <td>0.000000</td>\n      <td>5.489192e-39</td>\n      <td>0.000000</td>\n    </tr>\n    <tr>\n      <th>Alibaba Pictures Group</th>\n      <td>0.000000</td>\n      <td>0.000000</td>\n      <td>5.489192e-39</td>\n      <td>0.000000</td>\n    </tr>\n  </tbody>\n</table>\n<p>836 rows × 4 columns</p>\n</div>"
     },
     "metadata": {},
     "execution_count": 14
    }
   ],
   "source": [
    "investor_centrality_df.sort_values(by=\"Closeness Centrality\", ascending=False)"
   ]
  },
  {
   "source": [
    "## 企業のネットワーク\n"
   ],
   "cell_type": "markdown",
   "metadata": {}
  },
  {
   "cell_type": "code",
   "execution_count": 15,
   "metadata": {},
   "outputs": [],
   "source": [
    "degrees = nx.degree_centrality(company_graph)\n",
    "betweens = nx.betweenness_centrality(company_graph)\n",
    "eigens = nx.eigenvector_centrality(company_graph)\n",
    "closeness = nx.closeness_centrality(company_graph)\n",
    "centra_dict = {\n",
    "    \"Degree Centrality\": degrees,\n",
    "    \"Betweenness Centrality\": betweens,\n",
    "    \"Eigen Centrality\": eigens,\n",
    "    \"Closeness Centrality\": closeness\n",
    "}"
   ]
  },
  {
   "cell_type": "code",
   "execution_count": 16,
   "metadata": {},
   "outputs": [
    {
     "output_type": "execute_result",
     "data": {
      "text/plain": [
       "                          Degree Centrality  Betweenness Centrality  \\\n",
       "Attentive Mobile                   0.035225                0.002978   \n",
       "Wildlife Studios                   0.015656                0.003739   \n",
       "GPclub                             0.007828                0.000000   \n",
       "Jusfoun Big Data                   0.027397                0.000000   \n",
       "SoFi                               0.021526                0.006232   \n",
       "...                                     ...                     ...   \n",
       " Diamler                           0.001957                0.000000   \n",
       " TMT Investments                   0.001957                0.000000   \n",
       " Softbank Group                    0.001957                0.000000   \n",
       "GGV Capital                        0.001957                0.000000   \n",
       " Vertex Venture Holdings           0.001957                0.000000   \n",
       "\n",
       "                          Eigen Centrality  Closeness Centrality  \n",
       "Attentive Mobile              1.572233e-02              0.253751  \n",
       "Wildlife Studios              6.146332e-03              0.238236  \n",
       "GPclub                        9.473446e-05              0.166177  \n",
       "Jusfoun Big Data              4.366273e-02              0.214896  \n",
       "SoFi                          2.040050e-02              0.248637  \n",
       "...                                    ...                   ...  \n",
       " Diamler                      1.425025e-04              0.182907  \n",
       " TMT Investments              1.425025e-04              0.182907  \n",
       " Softbank Group               2.985906e-67              0.003523  \n",
       "GGV Capital                   2.985906e-67              0.003523  \n",
       " Vertex Venture Holdings      2.985906e-67              0.003523  \n",
       "\n",
       "[512 rows x 4 columns]"
      ],
      "text/html": "<div>\n<style scoped>\n    .dataframe tbody tr th:only-of-type {\n        vertical-align: middle;\n    }\n\n    .dataframe tbody tr th {\n        vertical-align: top;\n    }\n\n    .dataframe thead th {\n        text-align: right;\n    }\n</style>\n<table border=\"1\" class=\"dataframe\">\n  <thead>\n    <tr style=\"text-align: right;\">\n      <th></th>\n      <th>Degree Centrality</th>\n      <th>Betweenness Centrality</th>\n      <th>Eigen Centrality</th>\n      <th>Closeness Centrality</th>\n    </tr>\n  </thead>\n  <tbody>\n    <tr>\n      <th>Attentive Mobile</th>\n      <td>0.035225</td>\n      <td>0.002978</td>\n      <td>1.572233e-02</td>\n      <td>0.253751</td>\n    </tr>\n    <tr>\n      <th>Wildlife Studios</th>\n      <td>0.015656</td>\n      <td>0.003739</td>\n      <td>6.146332e-03</td>\n      <td>0.238236</td>\n    </tr>\n    <tr>\n      <th>GPclub</th>\n      <td>0.007828</td>\n      <td>0.000000</td>\n      <td>9.473446e-05</td>\n      <td>0.166177</td>\n    </tr>\n    <tr>\n      <th>Jusfoun Big Data</th>\n      <td>0.027397</td>\n      <td>0.000000</td>\n      <td>4.366273e-02</td>\n      <td>0.214896</td>\n    </tr>\n    <tr>\n      <th>SoFi</th>\n      <td>0.021526</td>\n      <td>0.006232</td>\n      <td>2.040050e-02</td>\n      <td>0.248637</td>\n    </tr>\n    <tr>\n      <th>...</th>\n      <td>...</td>\n      <td>...</td>\n      <td>...</td>\n      <td>...</td>\n    </tr>\n    <tr>\n      <th>Diamler</th>\n      <td>0.001957</td>\n      <td>0.000000</td>\n      <td>1.425025e-04</td>\n      <td>0.182907</td>\n    </tr>\n    <tr>\n      <th>TMT Investments</th>\n      <td>0.001957</td>\n      <td>0.000000</td>\n      <td>1.425025e-04</td>\n      <td>0.182907</td>\n    </tr>\n    <tr>\n      <th>Softbank Group</th>\n      <td>0.001957</td>\n      <td>0.000000</td>\n      <td>2.985906e-67</td>\n      <td>0.003523</td>\n    </tr>\n    <tr>\n      <th>GGV Capital</th>\n      <td>0.001957</td>\n      <td>0.000000</td>\n      <td>2.985906e-67</td>\n      <td>0.003523</td>\n    </tr>\n    <tr>\n      <th>Vertex Venture Holdings</th>\n      <td>0.001957</td>\n      <td>0.000000</td>\n      <td>2.985906e-67</td>\n      <td>0.003523</td>\n    </tr>\n  </tbody>\n</table>\n<p>512 rows × 4 columns</p>\n</div>"
     },
     "metadata": {},
     "execution_count": 16
    }
   ],
   "source": [
    "company_centrality_df = pd.DataFrame.from_dict(centra_dict)\n",
    "company_centrality_df"
   ]
  },
  {
   "cell_type": "code",
   "execution_count": 17,
   "metadata": {},
   "outputs": [
    {
     "output_type": "execute_result",
     "data": {
      "text/plain": [
       "                  Degree Centrality  Betweenness Centrality  Eigen Centrality  \\\n",
       "Pony.ai                    0.070450                0.019761      2.350748e-01   \n",
       "Rappi                      0.062622                0.024574      2.618463e-02   \n",
       "Ziroom                     0.062622                0.035399      2.107475e-01   \n",
       "Luoji Siwei                0.060665                0.006916      2.364358e-01   \n",
       "Miaoshou Doctor            0.060665                0.006916      2.364358e-01   \n",
       "...                             ...                     ...               ...   \n",
       "Quanergy Systems           0.000000                0.000000      1.896745e-99   \n",
       "Numbrs                     0.000000                0.000000      1.896745e-99   \n",
       "Vista Global               0.000000                0.000000      1.896745e-99   \n",
       "Talkdesk                   0.000000                0.000000      1.896745e-99   \n",
       "OVO Energy                 0.000000                0.000000      1.896745e-99   \n",
       "\n",
       "                  Closeness Centrality  \n",
       "Pony.ai                       0.262059  \n",
       "Rappi                         0.284464  \n",
       "Ziroom                        0.276754  \n",
       "Luoji Siwei                   0.261596  \n",
       "Miaoshou Doctor               0.261596  \n",
       "...                                ...  \n",
       "Quanergy Systems              0.000000  \n",
       "Numbrs                        0.000000  \n",
       "Vista Global                  0.000000  \n",
       "Talkdesk                      0.000000  \n",
       "OVO Energy                    0.000000  \n",
       "\n",
       "[512 rows x 4 columns]"
      ],
      "text/html": "<div>\n<style scoped>\n    .dataframe tbody tr th:only-of-type {\n        vertical-align: middle;\n    }\n\n    .dataframe tbody tr th {\n        vertical-align: top;\n    }\n\n    .dataframe thead th {\n        text-align: right;\n    }\n</style>\n<table border=\"1\" class=\"dataframe\">\n  <thead>\n    <tr style=\"text-align: right;\">\n      <th></th>\n      <th>Degree Centrality</th>\n      <th>Betweenness Centrality</th>\n      <th>Eigen Centrality</th>\n      <th>Closeness Centrality</th>\n    </tr>\n  </thead>\n  <tbody>\n    <tr>\n      <th>Pony.ai</th>\n      <td>0.070450</td>\n      <td>0.019761</td>\n      <td>2.350748e-01</td>\n      <td>0.262059</td>\n    </tr>\n    <tr>\n      <th>Rappi</th>\n      <td>0.062622</td>\n      <td>0.024574</td>\n      <td>2.618463e-02</td>\n      <td>0.284464</td>\n    </tr>\n    <tr>\n      <th>Ziroom</th>\n      <td>0.062622</td>\n      <td>0.035399</td>\n      <td>2.107475e-01</td>\n      <td>0.276754</td>\n    </tr>\n    <tr>\n      <th>Luoji Siwei</th>\n      <td>0.060665</td>\n      <td>0.006916</td>\n      <td>2.364358e-01</td>\n      <td>0.261596</td>\n    </tr>\n    <tr>\n      <th>Miaoshou Doctor</th>\n      <td>0.060665</td>\n      <td>0.006916</td>\n      <td>2.364358e-01</td>\n      <td>0.261596</td>\n    </tr>\n    <tr>\n      <th>...</th>\n      <td>...</td>\n      <td>...</td>\n      <td>...</td>\n      <td>...</td>\n    </tr>\n    <tr>\n      <th>Quanergy Systems</th>\n      <td>0.000000</td>\n      <td>0.000000</td>\n      <td>1.896745e-99</td>\n      <td>0.000000</td>\n    </tr>\n    <tr>\n      <th>Numbrs</th>\n      <td>0.000000</td>\n      <td>0.000000</td>\n      <td>1.896745e-99</td>\n      <td>0.000000</td>\n    </tr>\n    <tr>\n      <th>Vista Global</th>\n      <td>0.000000</td>\n      <td>0.000000</td>\n      <td>1.896745e-99</td>\n      <td>0.000000</td>\n    </tr>\n    <tr>\n      <th>Talkdesk</th>\n      <td>0.000000</td>\n      <td>0.000000</td>\n      <td>1.896745e-99</td>\n      <td>0.000000</td>\n    </tr>\n    <tr>\n      <th>OVO Energy</th>\n      <td>0.000000</td>\n      <td>0.000000</td>\n      <td>1.896745e-99</td>\n      <td>0.000000</td>\n    </tr>\n  </tbody>\n</table>\n<p>512 rows × 4 columns</p>\n</div>"
     },
     "metadata": {},
     "execution_count": 17
    }
   ],
   "source": [
    "company_centrality_df.sort_values(by=\"Degree Centrality\", ascending=False)"
   ]
  },
  {
   "cell_type": "code",
   "execution_count": 18,
   "metadata": {},
   "outputs": [
    {
     "output_type": "execute_result",
     "data": {
      "text/plain": [
       "                          Degree Centrality  Betweenness Centrality  \\\n",
       "Ziroom                             0.062622                0.035399   \n",
       "Klook                              0.060665                0.024608   \n",
       "Rappi                              0.062622                0.024574   \n",
       "Pony.ai                            0.070450                0.019761   \n",
       "ZocDoc                             0.043053                0.019746   \n",
       "...                                     ...                     ...   \n",
       "Intarcia Therapeutics              0.017613                0.000000   \n",
       "Quanergy Systems                   0.000000                0.000000   \n",
       "Hike                               0.005871                0.000000   \n",
       "Illumio                            0.001957                0.000000   \n",
       " Vertex Venture Holdings           0.001957                0.000000   \n",
       "\n",
       "                          Eigen Centrality  Closeness Centrality  \n",
       "Ziroom                        2.107475e-01              0.276754  \n",
       "Klook                         2.151620e-01              0.271179  \n",
       "Rappi                         2.618463e-02              0.284464  \n",
       "Pony.ai                       2.350748e-01              0.262059  \n",
       "ZocDoc                        2.563529e-02              0.274192  \n",
       "...                                    ...                   ...  \n",
       "Intarcia Therapeutics         4.480923e-03              0.226570  \n",
       "Quanergy Systems              1.896745e-99              0.000000  \n",
       "Hike                          1.160630e-03              0.188857  \n",
       "Illumio                       1.664735e-04              0.177216  \n",
       " Vertex Venture Holdings      2.985906e-67              0.003523  \n",
       "\n",
       "[512 rows x 4 columns]"
      ],
      "text/html": "<div>\n<style scoped>\n    .dataframe tbody tr th:only-of-type {\n        vertical-align: middle;\n    }\n\n    .dataframe tbody tr th {\n        vertical-align: top;\n    }\n\n    .dataframe thead th {\n        text-align: right;\n    }\n</style>\n<table border=\"1\" class=\"dataframe\">\n  <thead>\n    <tr style=\"text-align: right;\">\n      <th></th>\n      <th>Degree Centrality</th>\n      <th>Betweenness Centrality</th>\n      <th>Eigen Centrality</th>\n      <th>Closeness Centrality</th>\n    </tr>\n  </thead>\n  <tbody>\n    <tr>\n      <th>Ziroom</th>\n      <td>0.062622</td>\n      <td>0.035399</td>\n      <td>2.107475e-01</td>\n      <td>0.276754</td>\n    </tr>\n    <tr>\n      <th>Klook</th>\n      <td>0.060665</td>\n      <td>0.024608</td>\n      <td>2.151620e-01</td>\n      <td>0.271179</td>\n    </tr>\n    <tr>\n      <th>Rappi</th>\n      <td>0.062622</td>\n      <td>0.024574</td>\n      <td>2.618463e-02</td>\n      <td>0.284464</td>\n    </tr>\n    <tr>\n      <th>Pony.ai</th>\n      <td>0.070450</td>\n      <td>0.019761</td>\n      <td>2.350748e-01</td>\n      <td>0.262059</td>\n    </tr>\n    <tr>\n      <th>ZocDoc</th>\n      <td>0.043053</td>\n      <td>0.019746</td>\n      <td>2.563529e-02</td>\n      <td>0.274192</td>\n    </tr>\n    <tr>\n      <th>...</th>\n      <td>...</td>\n      <td>...</td>\n      <td>...</td>\n      <td>...</td>\n    </tr>\n    <tr>\n      <th>Intarcia Therapeutics</th>\n      <td>0.017613</td>\n      <td>0.000000</td>\n      <td>4.480923e-03</td>\n      <td>0.226570</td>\n    </tr>\n    <tr>\n      <th>Quanergy Systems</th>\n      <td>0.000000</td>\n      <td>0.000000</td>\n      <td>1.896745e-99</td>\n      <td>0.000000</td>\n    </tr>\n    <tr>\n      <th>Hike</th>\n      <td>0.005871</td>\n      <td>0.000000</td>\n      <td>1.160630e-03</td>\n      <td>0.188857</td>\n    </tr>\n    <tr>\n      <th>Illumio</th>\n      <td>0.001957</td>\n      <td>0.000000</td>\n      <td>1.664735e-04</td>\n      <td>0.177216</td>\n    </tr>\n    <tr>\n      <th>Vertex Venture Holdings</th>\n      <td>0.001957</td>\n      <td>0.000000</td>\n      <td>2.985906e-67</td>\n      <td>0.003523</td>\n    </tr>\n  </tbody>\n</table>\n<p>512 rows × 4 columns</p>\n</div>"
     },
     "metadata": {},
     "execution_count": 18
    }
   ],
   "source": [
    "company_centrality_df.sort_values(by=\"Betweenness Centrality\", ascending=False)"
   ]
  },
  {
   "cell_type": "code",
   "execution_count": 19,
   "metadata": {},
   "outputs": [
    {
     "output_type": "execute_result",
     "data": {
      "text/plain": [
       "                Degree Centrality  Betweenness Centrality  Eigen Centrality  \\\n",
       "Rappi                    0.062622                0.024574      2.618463e-02   \n",
       "Confluent                0.052838                0.016496      2.275292e-02   \n",
       "DoorDash                 0.052838                0.014699      1.905271e-02   \n",
       "Ziroom                   0.062622                0.035399      2.107475e-01   \n",
       "ZocDoc                   0.043053                0.019746      2.563529e-02   \n",
       "...                           ...                     ...               ...   \n",
       "Zeta Global              0.000000                0.000000      1.896745e-99   \n",
       "BrewDog                  0.000000                0.000000      1.896745e-99   \n",
       "You & Mr Jones           0.000000                0.000000      1.896745e-99   \n",
       "INFI                     0.000000                0.000000      1.896745e-99   \n",
       "Gousto                   0.000000                0.000000      1.896745e-99   \n",
       "\n",
       "                Closeness Centrality  \n",
       "Rappi                       0.284464  \n",
       "Confluent                   0.281758  \n",
       "DoorDash                    0.277013  \n",
       "Ziroom                      0.276754  \n",
       "ZocDoc                      0.274192  \n",
       "...                              ...  \n",
       "Zeta Global                 0.000000  \n",
       "BrewDog                     0.000000  \n",
       "You & Mr Jones              0.000000  \n",
       "INFI                        0.000000  \n",
       "Gousto                      0.000000  \n",
       "\n",
       "[512 rows x 4 columns]"
      ],
      "text/html": "<div>\n<style scoped>\n    .dataframe tbody tr th:only-of-type {\n        vertical-align: middle;\n    }\n\n    .dataframe tbody tr th {\n        vertical-align: top;\n    }\n\n    .dataframe thead th {\n        text-align: right;\n    }\n</style>\n<table border=\"1\" class=\"dataframe\">\n  <thead>\n    <tr style=\"text-align: right;\">\n      <th></th>\n      <th>Degree Centrality</th>\n      <th>Betweenness Centrality</th>\n      <th>Eigen Centrality</th>\n      <th>Closeness Centrality</th>\n    </tr>\n  </thead>\n  <tbody>\n    <tr>\n      <th>Rappi</th>\n      <td>0.062622</td>\n      <td>0.024574</td>\n      <td>2.618463e-02</td>\n      <td>0.284464</td>\n    </tr>\n    <tr>\n      <th>Confluent</th>\n      <td>0.052838</td>\n      <td>0.016496</td>\n      <td>2.275292e-02</td>\n      <td>0.281758</td>\n    </tr>\n    <tr>\n      <th>DoorDash</th>\n      <td>0.052838</td>\n      <td>0.014699</td>\n      <td>1.905271e-02</td>\n      <td>0.277013</td>\n    </tr>\n    <tr>\n      <th>Ziroom</th>\n      <td>0.062622</td>\n      <td>0.035399</td>\n      <td>2.107475e-01</td>\n      <td>0.276754</td>\n    </tr>\n    <tr>\n      <th>ZocDoc</th>\n      <td>0.043053</td>\n      <td>0.019746</td>\n      <td>2.563529e-02</td>\n      <td>0.274192</td>\n    </tr>\n    <tr>\n      <th>...</th>\n      <td>...</td>\n      <td>...</td>\n      <td>...</td>\n      <td>...</td>\n    </tr>\n    <tr>\n      <th>Zeta Global</th>\n      <td>0.000000</td>\n      <td>0.000000</td>\n      <td>1.896745e-99</td>\n      <td>0.000000</td>\n    </tr>\n    <tr>\n      <th>BrewDog</th>\n      <td>0.000000</td>\n      <td>0.000000</td>\n      <td>1.896745e-99</td>\n      <td>0.000000</td>\n    </tr>\n    <tr>\n      <th>You &amp; Mr Jones</th>\n      <td>0.000000</td>\n      <td>0.000000</td>\n      <td>1.896745e-99</td>\n      <td>0.000000</td>\n    </tr>\n    <tr>\n      <th>INFI</th>\n      <td>0.000000</td>\n      <td>0.000000</td>\n      <td>1.896745e-99</td>\n      <td>0.000000</td>\n    </tr>\n    <tr>\n      <th>Gousto</th>\n      <td>0.000000</td>\n      <td>0.000000</td>\n      <td>1.896745e-99</td>\n      <td>0.000000</td>\n    </tr>\n  </tbody>\n</table>\n<p>512 rows × 4 columns</p>\n</div>"
     },
     "metadata": {},
     "execution_count": 19
    }
   ],
   "source": [
    "company_centrality_df.sort_values(by=\"Closeness Centrality\", ascending=False)"
   ]
  },
  {
   "source": [
    "## 企業メモ\n",
    "* Pony.aiは自動運転自動車の会社\n",
    "* Ziroomは賃貸掲載サイトの運営会社（スーモやホームズみたいなサイトの中国版？）\n",
    "* Rappiはコロンビアの会社で、買い物代行。Uber eatに近いサービスだと思う。"
   ],
   "cell_type": "markdown",
   "metadata": {}
  },
  {
   "source": [
    "# コンポーネント"
   ],
   "cell_type": "markdown",
   "metadata": {}
  },
  {
   "cell_type": "code",
   "execution_count": 20,
   "metadata": {},
   "outputs": [
    {
     "output_type": "stream",
     "name": "stdout",
     "text": [
      "コンポーネント数: 112\nノード数に対するコンポーネント数の割合: 13.40%\n"
     ]
    }
   ],
   "source": [
    "n_comps = nx.number_connected_components(investor_graph)\n",
    "print(\"コンポーネント数: {}\".format(n_comps))\n",
    "print(\"ノード数に対するコンポーネント数の割合: {0:.2%}\".format(n_comps / len(investor_graph)))"
   ]
  },
  {
   "cell_type": "code",
   "execution_count": 21,
   "metadata": {},
   "outputs": [],
   "source": [
    "S = [investor_graph.subgraph(c).copy() for c in nx.connected_components(investor_graph)]"
   ]
  },
  {
   "cell_type": "code",
   "execution_count": 22,
   "metadata": {},
   "outputs": [
    {
     "output_type": "stream",
     "name": "stdout",
     "text": [
      "投資家コンポーネント上位10件のサイズ\n[552  16   9   5   5   4   3   3   3   3]\n"
     ]
    },
    {
     "output_type": "execute_result",
     "data": {
      "text/plain": [
       "[<matplotlib.lines.Line2D at 0x12191fa58>]"
      ]
     },
     "metadata": {},
     "execution_count": 22
    },
    {
     "output_type": "display_data",
     "data": {
      "text/plain": "<Figure size 432x288 with 1 Axes>",
      "image/svg+xml": "<?xml version=\"1.0\" encoding=\"utf-8\" standalone=\"no\"?>\n<!DOCTYPE svg PUBLIC \"-//W3C//DTD SVG 1.1//EN\"\n  \"http://www.w3.org/Graphics/SVG/1.1/DTD/svg11.dtd\">\n<!-- Created with matplotlib (https://matplotlib.org/) -->\n<svg height=\"248.518125pt\" version=\"1.1\" viewBox=\"0 0 375.2875 248.518125\" width=\"375.2875pt\" xmlns=\"http://www.w3.org/2000/svg\" xmlns:xlink=\"http://www.w3.org/1999/xlink\">\n <metadata>\n  <rdf:RDF xmlns:cc=\"http://creativecommons.org/ns#\" xmlns:dc=\"http://purl.org/dc/elements/1.1/\" xmlns:rdf=\"http://www.w3.org/1999/02/22-rdf-syntax-ns#\">\n   <cc:Work>\n    <dc:type rdf:resource=\"http://purl.org/dc/dcmitype/StillImage\"/>\n    <dc:date>2021-01-23T18:26:08.872575</dc:date>\n    <dc:format>image/svg+xml</dc:format>\n    <dc:creator>\n     <cc:Agent>\n      <dc:title>Matplotlib v3.3.3, https://matplotlib.org/</dc:title>\n     </cc:Agent>\n    </dc:creator>\n   </cc:Work>\n  </rdf:RDF>\n </metadata>\n <defs>\n  <style type=\"text/css\">*{stroke-linecap:butt;stroke-linejoin:round;}</style>\n </defs>\n <g id=\"figure_1\">\n  <g id=\"patch_1\">\n   <path d=\"M 0 248.518125 \nL 375.2875 248.518125 \nL 375.2875 0 \nL 0 0 \nz\n\" style=\"fill:none;\"/>\n  </g>\n  <g id=\"axes_1\">\n   <g id=\"patch_2\">\n    <path d=\"M 33.2875 224.64 \nL 368.0875 224.64 \nL 368.0875 7.2 \nL 33.2875 7.2 \nz\n\" style=\"fill:#ffffff;\"/>\n   </g>\n   <g id=\"matplotlib.axis_1\">\n    <g id=\"xtick_1\">\n     <g id=\"line2d_1\">\n      <defs>\n       <path d=\"M 0 0 \nL 0 3.5 \n\" id=\"mb3e7110407\" style=\"stroke:#000000;stroke-width:0.8;\"/>\n      </defs>\n      <g>\n       <use style=\"stroke:#000000;stroke-width:0.8;\" x=\"48.505682\" xlink:href=\"#mb3e7110407\" y=\"224.64\"/>\n      </g>\n     </g>\n     <g id=\"text_1\">\n      <!-- 0 -->\n      <g transform=\"translate(45.324432 239.238437)scale(0.1 -0.1)\">\n       <defs>\n        <path d=\"M 31.78125 66.40625 \nQ 24.171875 66.40625 20.328125 58.90625 \nQ 16.5 51.421875 16.5 36.375 \nQ 16.5 21.390625 20.328125 13.890625 \nQ 24.171875 6.390625 31.78125 6.390625 \nQ 39.453125 6.390625 43.28125 13.890625 \nQ 47.125 21.390625 47.125 36.375 \nQ 47.125 51.421875 43.28125 58.90625 \nQ 39.453125 66.40625 31.78125 66.40625 \nz\nM 31.78125 74.21875 \nQ 44.046875 74.21875 50.515625 64.515625 \nQ 56.984375 54.828125 56.984375 36.375 \nQ 56.984375 17.96875 50.515625 8.265625 \nQ 44.046875 -1.421875 31.78125 -1.421875 \nQ 19.53125 -1.421875 13.0625 8.265625 \nQ 6.59375 17.96875 6.59375 36.375 \nQ 6.59375 54.828125 13.0625 64.515625 \nQ 19.53125 74.21875 31.78125 74.21875 \nz\n\" id=\"DejaVuSans-48\"/>\n       </defs>\n       <use xlink:href=\"#DejaVuSans-48\"/>\n      </g>\n     </g>\n    </g>\n    <g id=\"xtick_2\">\n     <g id=\"line2d_2\">\n      <g>\n       <use style=\"stroke:#000000;stroke-width:0.8;\" x=\"103.345977\" xlink:href=\"#mb3e7110407\" y=\"224.64\"/>\n      </g>\n     </g>\n     <g id=\"text_2\">\n      <!-- 20 -->\n      <g transform=\"translate(96.983477 239.238437)scale(0.1 -0.1)\">\n       <defs>\n        <path d=\"M 19.1875 8.296875 \nL 53.609375 8.296875 \nL 53.609375 0 \nL 7.328125 0 \nL 7.328125 8.296875 \nQ 12.9375 14.109375 22.625 23.890625 \nQ 32.328125 33.6875 34.8125 36.53125 \nQ 39.546875 41.84375 41.421875 45.53125 \nQ 43.3125 49.21875 43.3125 52.78125 \nQ 43.3125 58.59375 39.234375 62.25 \nQ 35.15625 65.921875 28.609375 65.921875 \nQ 23.96875 65.921875 18.8125 64.3125 \nQ 13.671875 62.703125 7.8125 59.421875 \nL 7.8125 69.390625 \nQ 13.765625 71.78125 18.9375 73 \nQ 24.125 74.21875 28.421875 74.21875 \nQ 39.75 74.21875 46.484375 68.546875 \nQ 53.21875 62.890625 53.21875 53.421875 \nQ 53.21875 48.921875 51.53125 44.890625 \nQ 49.859375 40.875 45.40625 35.40625 \nQ 44.1875 33.984375 37.640625 27.21875 \nQ 31.109375 20.453125 19.1875 8.296875 \nz\n\" id=\"DejaVuSans-50\"/>\n       </defs>\n       <use xlink:href=\"#DejaVuSans-50\"/>\n       <use x=\"63.623047\" xlink:href=\"#DejaVuSans-48\"/>\n      </g>\n     </g>\n    </g>\n    <g id=\"xtick_3\">\n     <g id=\"line2d_3\">\n      <g>\n       <use style=\"stroke:#000000;stroke-width:0.8;\" x=\"158.186271\" xlink:href=\"#mb3e7110407\" y=\"224.64\"/>\n      </g>\n     </g>\n     <g id=\"text_3\">\n      <!-- 40 -->\n      <g transform=\"translate(151.823771 239.238437)scale(0.1 -0.1)\">\n       <defs>\n        <path d=\"M 37.796875 64.3125 \nL 12.890625 25.390625 \nL 37.796875 25.390625 \nz\nM 35.203125 72.90625 \nL 47.609375 72.90625 \nL 47.609375 25.390625 \nL 58.015625 25.390625 \nL 58.015625 17.1875 \nL 47.609375 17.1875 \nL 47.609375 0 \nL 37.796875 0 \nL 37.796875 17.1875 \nL 4.890625 17.1875 \nL 4.890625 26.703125 \nz\n\" id=\"DejaVuSans-52\"/>\n       </defs>\n       <use xlink:href=\"#DejaVuSans-52\"/>\n       <use x=\"63.623047\" xlink:href=\"#DejaVuSans-48\"/>\n      </g>\n     </g>\n    </g>\n    <g id=\"xtick_4\">\n     <g id=\"line2d_4\">\n      <g>\n       <use style=\"stroke:#000000;stroke-width:0.8;\" x=\"213.026566\" xlink:href=\"#mb3e7110407\" y=\"224.64\"/>\n      </g>\n     </g>\n     <g id=\"text_4\">\n      <!-- 60 -->\n      <g transform=\"translate(206.664066 239.238437)scale(0.1 -0.1)\">\n       <defs>\n        <path d=\"M 33.015625 40.375 \nQ 26.375 40.375 22.484375 35.828125 \nQ 18.609375 31.296875 18.609375 23.390625 \nQ 18.609375 15.53125 22.484375 10.953125 \nQ 26.375 6.390625 33.015625 6.390625 \nQ 39.65625 6.390625 43.53125 10.953125 \nQ 47.40625 15.53125 47.40625 23.390625 \nQ 47.40625 31.296875 43.53125 35.828125 \nQ 39.65625 40.375 33.015625 40.375 \nz\nM 52.59375 71.296875 \nL 52.59375 62.3125 \nQ 48.875 64.0625 45.09375 64.984375 \nQ 41.3125 65.921875 37.59375 65.921875 \nQ 27.828125 65.921875 22.671875 59.328125 \nQ 17.53125 52.734375 16.796875 39.40625 \nQ 19.671875 43.65625 24.015625 45.921875 \nQ 28.375 48.1875 33.59375 48.1875 \nQ 44.578125 48.1875 50.953125 41.515625 \nQ 57.328125 34.859375 57.328125 23.390625 \nQ 57.328125 12.15625 50.6875 5.359375 \nQ 44.046875 -1.421875 33.015625 -1.421875 \nQ 20.359375 -1.421875 13.671875 8.265625 \nQ 6.984375 17.96875 6.984375 36.375 \nQ 6.984375 53.65625 15.1875 63.9375 \nQ 23.390625 74.21875 37.203125 74.21875 \nQ 40.921875 74.21875 44.703125 73.484375 \nQ 48.484375 72.75 52.59375 71.296875 \nz\n\" id=\"DejaVuSans-54\"/>\n       </defs>\n       <use xlink:href=\"#DejaVuSans-54\"/>\n       <use x=\"63.623047\" xlink:href=\"#DejaVuSans-48\"/>\n      </g>\n     </g>\n    </g>\n    <g id=\"xtick_5\">\n     <g id=\"line2d_5\">\n      <g>\n       <use style=\"stroke:#000000;stroke-width:0.8;\" x=\"267.866861\" xlink:href=\"#mb3e7110407\" y=\"224.64\"/>\n      </g>\n     </g>\n     <g id=\"text_5\">\n      <!-- 80 -->\n      <g transform=\"translate(261.504361 239.238437)scale(0.1 -0.1)\">\n       <defs>\n        <path d=\"M 31.78125 34.625 \nQ 24.75 34.625 20.71875 30.859375 \nQ 16.703125 27.09375 16.703125 20.515625 \nQ 16.703125 13.921875 20.71875 10.15625 \nQ 24.75 6.390625 31.78125 6.390625 \nQ 38.8125 6.390625 42.859375 10.171875 \nQ 46.921875 13.96875 46.921875 20.515625 \nQ 46.921875 27.09375 42.890625 30.859375 \nQ 38.875 34.625 31.78125 34.625 \nz\nM 21.921875 38.8125 \nQ 15.578125 40.375 12.03125 44.71875 \nQ 8.5 49.078125 8.5 55.328125 \nQ 8.5 64.0625 14.71875 69.140625 \nQ 20.953125 74.21875 31.78125 74.21875 \nQ 42.671875 74.21875 48.875 69.140625 \nQ 55.078125 64.0625 55.078125 55.328125 \nQ 55.078125 49.078125 51.53125 44.71875 \nQ 48 40.375 41.703125 38.8125 \nQ 48.828125 37.15625 52.796875 32.3125 \nQ 56.78125 27.484375 56.78125 20.515625 \nQ 56.78125 9.90625 50.3125 4.234375 \nQ 43.84375 -1.421875 31.78125 -1.421875 \nQ 19.734375 -1.421875 13.25 4.234375 \nQ 6.78125 9.90625 6.78125 20.515625 \nQ 6.78125 27.484375 10.78125 32.3125 \nQ 14.796875 37.15625 21.921875 38.8125 \nz\nM 18.3125 54.390625 \nQ 18.3125 48.734375 21.84375 45.5625 \nQ 25.390625 42.390625 31.78125 42.390625 \nQ 38.140625 42.390625 41.71875 45.5625 \nQ 45.3125 48.734375 45.3125 54.390625 \nQ 45.3125 60.0625 41.71875 63.234375 \nQ 38.140625 66.40625 31.78125 66.40625 \nQ 25.390625 66.40625 21.84375 63.234375 \nQ 18.3125 60.0625 18.3125 54.390625 \nz\n\" id=\"DejaVuSans-56\"/>\n       </defs>\n       <use xlink:href=\"#DejaVuSans-56\"/>\n       <use x=\"63.623047\" xlink:href=\"#DejaVuSans-48\"/>\n      </g>\n     </g>\n    </g>\n    <g id=\"xtick_6\">\n     <g id=\"line2d_6\">\n      <g>\n       <use style=\"stroke:#000000;stroke-width:0.8;\" x=\"322.707156\" xlink:href=\"#mb3e7110407\" y=\"224.64\"/>\n      </g>\n     </g>\n     <g id=\"text_6\">\n      <!-- 100 -->\n      <g transform=\"translate(313.163406 239.238437)scale(0.1 -0.1)\">\n       <defs>\n        <path d=\"M 12.40625 8.296875 \nL 28.515625 8.296875 \nL 28.515625 63.921875 \nL 10.984375 60.40625 \nL 10.984375 69.390625 \nL 28.421875 72.90625 \nL 38.28125 72.90625 \nL 38.28125 8.296875 \nL 54.390625 8.296875 \nL 54.390625 0 \nL 12.40625 0 \nz\n\" id=\"DejaVuSans-49\"/>\n       </defs>\n       <use xlink:href=\"#DejaVuSans-49\"/>\n       <use x=\"63.623047\" xlink:href=\"#DejaVuSans-48\"/>\n       <use x=\"127.246094\" xlink:href=\"#DejaVuSans-48\"/>\n      </g>\n     </g>\n    </g>\n   </g>\n   <g id=\"matplotlib.axis_2\">\n    <g id=\"ytick_1\">\n     <g id=\"line2d_7\">\n      <defs>\n       <path d=\"M 0 0 \nL -3.5 0 \n\" id=\"m1980637b46\" style=\"stroke:#000000;stroke-width:0.8;\"/>\n      </defs>\n      <g>\n       <use style=\"stroke:#000000;stroke-width:0.8;\" x=\"33.2875\" xlink:href=\"#m1980637b46\" y=\"215.115116\"/>\n      </g>\n     </g>\n     <g id=\"text_7\">\n      <!-- 0 -->\n      <g transform=\"translate(19.925 218.914335)scale(0.1 -0.1)\">\n       <use xlink:href=\"#DejaVuSans-48\"/>\n      </g>\n     </g>\n    </g>\n    <g id=\"ytick_2\">\n     <g id=\"line2d_8\">\n      <g>\n       <use style=\"stroke:#000000;stroke-width:0.8;\" x=\"33.2875\" xlink:href=\"#m1980637b46\" y=\"179.239848\"/>\n      </g>\n     </g>\n     <g id=\"text_8\">\n      <!-- 100 -->\n      <g transform=\"translate(7.2 183.039067)scale(0.1 -0.1)\">\n       <use xlink:href=\"#DejaVuSans-49\"/>\n       <use x=\"63.623047\" xlink:href=\"#DejaVuSans-48\"/>\n       <use x=\"127.246094\" xlink:href=\"#DejaVuSans-48\"/>\n      </g>\n     </g>\n    </g>\n    <g id=\"ytick_3\">\n     <g id=\"line2d_9\">\n      <g>\n       <use style=\"stroke:#000000;stroke-width:0.8;\" x=\"33.2875\" xlink:href=\"#m1980637b46\" y=\"143.36458\"/>\n      </g>\n     </g>\n     <g id=\"text_9\">\n      <!-- 200 -->\n      <g transform=\"translate(7.2 147.163799)scale(0.1 -0.1)\">\n       <use xlink:href=\"#DejaVuSans-50\"/>\n       <use x=\"63.623047\" xlink:href=\"#DejaVuSans-48\"/>\n       <use x=\"127.246094\" xlink:href=\"#DejaVuSans-48\"/>\n      </g>\n     </g>\n    </g>\n    <g id=\"ytick_4\">\n     <g id=\"line2d_10\">\n      <g>\n       <use style=\"stroke:#000000;stroke-width:0.8;\" x=\"33.2875\" xlink:href=\"#m1980637b46\" y=\"107.489312\"/>\n      </g>\n     </g>\n     <g id=\"text_10\">\n      <!-- 300 -->\n      <g transform=\"translate(7.2 111.288531)scale(0.1 -0.1)\">\n       <defs>\n        <path d=\"M 40.578125 39.3125 \nQ 47.65625 37.796875 51.625 33 \nQ 55.609375 28.21875 55.609375 21.1875 \nQ 55.609375 10.40625 48.1875 4.484375 \nQ 40.765625 -1.421875 27.09375 -1.421875 \nQ 22.515625 -1.421875 17.65625 -0.515625 \nQ 12.796875 0.390625 7.625 2.203125 \nL 7.625 11.71875 \nQ 11.71875 9.328125 16.59375 8.109375 \nQ 21.484375 6.890625 26.8125 6.890625 \nQ 36.078125 6.890625 40.9375 10.546875 \nQ 45.796875 14.203125 45.796875 21.1875 \nQ 45.796875 27.640625 41.28125 31.265625 \nQ 36.765625 34.90625 28.71875 34.90625 \nL 20.21875 34.90625 \nL 20.21875 43.015625 \nL 29.109375 43.015625 \nQ 36.375 43.015625 40.234375 45.921875 \nQ 44.09375 48.828125 44.09375 54.296875 \nQ 44.09375 59.90625 40.109375 62.90625 \nQ 36.140625 65.921875 28.71875 65.921875 \nQ 24.65625 65.921875 20.015625 65.03125 \nQ 15.375 64.15625 9.8125 62.3125 \nL 9.8125 71.09375 \nQ 15.4375 72.65625 20.34375 73.4375 \nQ 25.25 74.21875 29.59375 74.21875 \nQ 40.828125 74.21875 47.359375 69.109375 \nQ 53.90625 64.015625 53.90625 55.328125 \nQ 53.90625 49.265625 50.4375 45.09375 \nQ 46.96875 40.921875 40.578125 39.3125 \nz\n\" id=\"DejaVuSans-51\"/>\n       </defs>\n       <use xlink:href=\"#DejaVuSans-51\"/>\n       <use x=\"63.623047\" xlink:href=\"#DejaVuSans-48\"/>\n       <use x=\"127.246094\" xlink:href=\"#DejaVuSans-48\"/>\n      </g>\n     </g>\n    </g>\n    <g id=\"ytick_5\">\n     <g id=\"line2d_11\">\n      <g>\n       <use style=\"stroke:#000000;stroke-width:0.8;\" x=\"33.2875\" xlink:href=\"#m1980637b46\" y=\"71.614044\"/>\n      </g>\n     </g>\n     <g id=\"text_11\">\n      <!-- 400 -->\n      <g transform=\"translate(7.2 75.413263)scale(0.1 -0.1)\">\n       <use xlink:href=\"#DejaVuSans-52\"/>\n       <use x=\"63.623047\" xlink:href=\"#DejaVuSans-48\"/>\n       <use x=\"127.246094\" xlink:href=\"#DejaVuSans-48\"/>\n      </g>\n     </g>\n    </g>\n    <g id=\"ytick_6\">\n     <g id=\"line2d_12\">\n      <g>\n       <use style=\"stroke:#000000;stroke-width:0.8;\" x=\"33.2875\" xlink:href=\"#m1980637b46\" y=\"35.738776\"/>\n      </g>\n     </g>\n     <g id=\"text_12\">\n      <!-- 500 -->\n      <g transform=\"translate(7.2 39.537995)scale(0.1 -0.1)\">\n       <defs>\n        <path d=\"M 10.796875 72.90625 \nL 49.515625 72.90625 \nL 49.515625 64.59375 \nL 19.828125 64.59375 \nL 19.828125 46.734375 \nQ 21.96875 47.46875 24.109375 47.828125 \nQ 26.265625 48.1875 28.421875 48.1875 \nQ 40.625 48.1875 47.75 41.5 \nQ 54.890625 34.8125 54.890625 23.390625 \nQ 54.890625 11.625 47.5625 5.09375 \nQ 40.234375 -1.421875 26.90625 -1.421875 \nQ 22.3125 -1.421875 17.546875 -0.640625 \nQ 12.796875 0.140625 7.71875 1.703125 \nL 7.71875 11.625 \nQ 12.109375 9.234375 16.796875 8.0625 \nQ 21.484375 6.890625 26.703125 6.890625 \nQ 35.15625 6.890625 40.078125 11.328125 \nQ 45.015625 15.765625 45.015625 23.390625 \nQ 45.015625 31 40.078125 35.4375 \nQ 35.15625 39.890625 26.703125 39.890625 \nQ 22.75 39.890625 18.8125 39.015625 \nQ 14.890625 38.140625 10.796875 36.28125 \nz\n\" id=\"DejaVuSans-53\"/>\n       </defs>\n       <use xlink:href=\"#DejaVuSans-53\"/>\n       <use x=\"63.623047\" xlink:href=\"#DejaVuSans-48\"/>\n       <use x=\"127.246094\" xlink:href=\"#DejaVuSans-48\"/>\n      </g>\n     </g>\n    </g>\n   </g>\n   <g id=\"line2d_13\">\n    <path clip-path=\"url(#p5546afa80a)\" d=\"M 48.505682 17.083636 \nL 51.247697 214.038858 \nL 53.989711 214.397611 \nL 56.731726 214.038858 \nL 59.473741 214.038858 \nL 62.215756 214.397611 \nL 64.95777 214.038858 \nL 67.699785 214.038858 \nL 70.4418 214.038858 \nL 73.183814 214.038858 \nL 75.925829 214.038858 \nL 78.667844 214.397611 \nL 81.409859 214.397611 \nL 84.151873 214.038858 \nL 86.893888 214.397611 \nL 89.635903 214.038858 \nL 92.377918 214.038858 \nL 95.119932 213.680106 \nL 97.861947 214.038858 \nL 100.603962 214.756364 \nL 103.345977 213.321353 \nL 106.087991 214.038858 \nL 108.830006 214.038858 \nL 111.572021 214.038858 \nL 114.314036 214.038858 \nL 117.05605 214.038858 \nL 119.798065 214.038858 \nL 122.54008 214.038858 \nL 125.282095 214.397611 \nL 128.024109 214.397611 \nL 130.766124 214.038858 \nL 133.508139 214.038858 \nL 136.250154 214.038858 \nL 138.992168 214.038858 \nL 141.734183 214.397611 \nL 144.476198 214.038858 \nL 147.218213 214.397611 \nL 149.960227 213.321353 \nL 152.702242 214.038858 \nL 155.444257 214.397611 \nL 158.186271 214.038858 \nL 160.928286 214.038858 \nL 163.670301 214.756364 \nL 166.412316 209.375073 \nL 169.15433 214.038858 \nL 171.896345 214.038858 \nL 174.63836 214.038858 \nL 177.380375 214.038858 \nL 180.122389 214.397611 \nL 182.864404 214.397611 \nL 185.606419 214.397611 \nL 188.348434 214.038858 \nL 191.090448 211.886342 \nL 193.832463 214.397611 \nL 196.574478 214.038858 \nL 199.316493 214.038858 \nL 202.058507 214.038858 \nL 204.800522 214.038858 \nL 207.542537 214.397611 \nL 210.284552 214.038858 \nL 213.026566 214.038858 \nL 215.768581 214.038858 \nL 218.510596 214.038858 \nL 221.252611 214.397611 \nL 223.994625 214.397611 \nL 226.73664 214.038858 \nL 229.478655 214.756364 \nL 232.22067 214.756364 \nL 234.962684 214.397611 \nL 237.704699 214.038858 \nL 240.446714 214.397611 \nL 243.188729 214.038858 \nL 245.930743 214.038858 \nL 248.672758 214.397611 \nL 251.414773 214.756364 \nL 254.156787 214.756364 \nL 256.898802 214.756364 \nL 259.640817 214.038858 \nL 262.382832 214.038858 \nL 265.124846 214.038858 \nL 267.866861 214.038858 \nL 270.608876 214.038858 \nL 273.350891 214.038858 \nL 276.092905 214.038858 \nL 278.83492 214.756364 \nL 281.576935 214.756364 \nL 284.31895 214.397611 \nL 287.060964 214.756364 \nL 289.802979 214.397611 \nL 292.544994 214.397611 \nL 295.287009 214.756364 \nL 298.029023 214.038858 \nL 300.771038 214.038858 \nL 303.513053 214.756364 \nL 306.255068 214.756364 \nL 308.997082 214.397611 \nL 311.739097 214.397611 \nL 314.481112 214.756364 \nL 317.223127 214.038858 \nL 319.965141 214.038858 \nL 322.707156 214.756364 \nL 325.449171 214.038858 \nL 328.191186 214.397611 \nL 330.9332 214.756364 \nL 333.675215 214.756364 \nL 336.41723 214.756364 \nL 339.159244 214.397611 \nL 341.901259 214.756364 \nL 344.643274 214.756364 \nL 347.385289 214.756364 \nL 350.127303 214.756364 \nL 352.869318 214.756364 \n\" style=\"fill:none;stroke:#1f77b4;stroke-linecap:square;stroke-width:1.5;\"/>\n   </g>\n   <g id=\"patch_3\">\n    <path d=\"M 33.2875 224.64 \nL 33.2875 7.2 \n\" style=\"fill:none;stroke:#000000;stroke-linecap:square;stroke-linejoin:miter;stroke-width:0.8;\"/>\n   </g>\n   <g id=\"patch_4\">\n    <path d=\"M 368.0875 224.64 \nL 368.0875 7.2 \n\" style=\"fill:none;stroke:#000000;stroke-linecap:square;stroke-linejoin:miter;stroke-width:0.8;\"/>\n   </g>\n   <g id=\"patch_5\">\n    <path d=\"M 33.2875 224.64 \nL 368.0875 224.64 \n\" style=\"fill:none;stroke:#000000;stroke-linecap:square;stroke-linejoin:miter;stroke-width:0.8;\"/>\n   </g>\n   <g id=\"patch_6\">\n    <path d=\"M 33.2875 7.2 \nL 368.0875 7.2 \n\" style=\"fill:none;stroke:#000000;stroke-linecap:square;stroke-linejoin:miter;stroke-width:0.8;\"/>\n   </g>\n  </g>\n </g>\n <defs>\n  <clipPath id=\"p5546afa80a\">\n   <rect height=\"217.44\" width=\"334.8\" x=\"33.2875\" y=\"7.2\"/>\n  </clipPath>\n </defs>\n</svg>\n",
      "image/png": "[encoded data removed]"
     },
     "metadata": {
      "needs_background": "light"
     }
    }
   ],
   "source": [
    "comp_sizes = [len(s) for s in S]\n",
    "print(\"投資家コンポーネント上位10件のサイズ\")\n",
    "print(np.sort(comp_sizes)[::-1][:10])\n",
    "plt.plot(comp_sizes)"
   ]
  },
  {
   "source": [
    "投資家の大きな集団が存在する。"
   ],
   "cell_type": "markdown",
   "metadata": {}
  },
  {
   "source": [
    "print(\"ネットワーク密度: {0:.2%}\".format(nx.density(S[0])))"
   ],
   "cell_type": "code",
   "metadata": {},
   "execution_count": 23,
   "outputs": [
    {
     "output_type": "stream",
     "name": "stdout",
     "text": [
      "ネットワーク密度: 0.71%\n"
     ]
    }
   ]
  },
  {
   "source": [
    "ネットワーク密度は1%に満たない。"
   ],
   "cell_type": "markdown",
   "metadata": {}
  },
  {
   "source": [
    "# データの出力"
   ],
   "cell_type": "markdown",
   "metadata": {}
  },
  {
   "cell_type": "code",
   "execution_count": 25,
   "metadata": {},
   "outputs": [],
   "source": [
    "investor_centrality_df.to_csv(os.path.join(\"..\", \"out\", \"investor_centrality.csv\"))\n",
    "company_centrality_df.to_csv(os.path.join(\"..\", \"out\", \"company_centrality.csv\"))\n"
   ]
  },
  {
   "cell_type": "code",
   "execution_count": 30,
   "metadata": {},
   "outputs": [],
   "source": [
    "pd.DataFrame(S[0].nodes).to_csv(os.path.join(\"..\", \"out\", \"largest_investor_component.csv\"), index=False, header=False)"
   ]
  },
  {
   "cell_type": "code",
   "execution_count": null,
   "metadata": {},
   "outputs": [],
   "source": []
  }
 ]
}