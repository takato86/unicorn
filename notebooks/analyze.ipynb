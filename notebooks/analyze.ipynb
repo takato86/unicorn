{
 "metadata": {
  "language_info": {
   "codemirror_mode": {
    "name": "ipython",
    "version": 3
   },
   "file_extension": ".py",
   "mimetype": "text/x-python",
   "name": "python",
   "nbconvert_exporter": "python",
   "pygments_lexer": "ipython3",
   "version": "3.7.4-final"
  },
  "orig_nbformat": 2,
  "kernelspec": {
   "name": "python3",
   "display_name": "Python 3",
   "language": "python"
  }
 },
 "nbformat": 4,
 "nbformat_minor": 2,
 "cells": [
  {
   "cell_type": "code",
   "execution_count": 22,
   "metadata": {},
   "outputs": [],
   "source": [
    "import pandas as pd\n",
    "import numpy as np\n",
    "import os\n",
    "import networkx as nx"
   ]
  },
  {
   "cell_type": "code",
   "execution_count": 5,
   "metadata": {},
   "outputs": [],
   "source": [
    "fpath = os.path.join(\"..\", \"data\", \"unicorn_company_invester.csv\")\n",
    "df = pd.read_csv(fpath, converters={\"Select Investors\": lambda x: x.split(\",\")})"
   ]
  },
  {
   "cell_type": "code",
   "execution_count": 6,
   "metadata": {},
   "outputs": [
    {
     "output_type": "execute_result",
     "data": {
      "text/plain": [
       "     Company Valuation($B) Date Joined        Country  \\\n",
       "0  100credit           $1    4/18/2018          China   \n",
       "1    17zuoye           $1     3/7/2018          China   \n",
       "2    23andMe        $2.50     7/3/2015  United States   \n",
       "3  4Paradigm           $2   12/19/2018          China   \n",
       "4  58 Daojia           $1   10/12/2015          China   \n",
       "\n",
       "                       Industry  \\\n",
       "0                       Fintech   \n",
       "1                        Edtech   \n",
       "2                        Health   \n",
       "3       Artificial intelligence   \n",
       "4  Internet software & services   \n",
       "\n",
       "                                    Select Investors  \n",
       "0  [Sequoia Capital China,  China Reform Fund,  H...  \n",
       "1                    [DST Global,  Temasek Holdings]  \n",
       "2  [Google Ventures,  New Enterprise Associates, ...  \n",
       "3  [Sequoia Capital China,  China Construction Ba...  \n",
       "4          [KKR,  Alibaba Group,  Ping An Insurance]  "
      ],
      "text/html": "<div>\n<style scoped>\n    .dataframe tbody tr th:only-of-type {\n        vertical-align: middle;\n    }\n\n    .dataframe tbody tr th {\n        vertical-align: top;\n    }\n\n    .dataframe thead th {\n        text-align: right;\n    }\n</style>\n<table border=\"1\" class=\"dataframe\">\n  <thead>\n    <tr style=\"text-align: right;\">\n      <th></th>\n      <th>Company</th>\n      <th>Valuation($B)</th>\n      <th>Date Joined</th>\n      <th>Country</th>\n      <th>Industry</th>\n      <th>Select Investors</th>\n    </tr>\n  </thead>\n  <tbody>\n    <tr>\n      <td>0</td>\n      <td>100credit</td>\n      <td>$1</td>\n      <td>4/18/2018</td>\n      <td>China</td>\n      <td>Fintech</td>\n      <td>[Sequoia Capital China,  China Reform Fund,  H...</td>\n    </tr>\n    <tr>\n      <td>1</td>\n      <td>17zuoye</td>\n      <td>$1</td>\n      <td>3/7/2018</td>\n      <td>China</td>\n      <td>Edtech</td>\n      <td>[DST Global,  Temasek Holdings]</td>\n    </tr>\n    <tr>\n      <td>2</td>\n      <td>23andMe</td>\n      <td>$2.50</td>\n      <td>7/3/2015</td>\n      <td>United States</td>\n      <td>Health</td>\n      <td>[Google Ventures,  New Enterprise Associates, ...</td>\n    </tr>\n    <tr>\n      <td>3</td>\n      <td>4Paradigm</td>\n      <td>$2</td>\n      <td>12/19/2018</td>\n      <td>China</td>\n      <td>Artificial intelligence</td>\n      <td>[Sequoia Capital China,  China Construction Ba...</td>\n    </tr>\n    <tr>\n      <td>4</td>\n      <td>58 Daojia</td>\n      <td>$1</td>\n      <td>10/12/2015</td>\n      <td>China</td>\n      <td>Internet software &amp; services</td>\n      <td>[KKR,  Alibaba Group,  Ping An Insurance]</td>\n    </tr>\n  </tbody>\n</table>\n</div>"
     },
     "metadata": {},
     "execution_count": 6
    }
   ],
   "source": [
    "df.head()"
   ]
  },
  {
   "cell_type": "code",
   "execution_count": 11,
   "metadata": {},
   "outputs": [],
   "source": [
    "r_comps, r_invests = [], []\n",
    "for company, investors in df[[\"Company\", \"Select Investors\"]].values.tolist():\n",
    "    n_rows = len(investors)\n",
    "    comps = np.full(n_rows, company)\n",
    "    r_comps += comps.tolist()\n",
    "    r_invests += investors"
   ]
  },
  {
   "cell_type": "code",
   "execution_count": 32,
   "metadata": {},
   "outputs": [
    {
     "output_type": "execute_result",
     "data": {
      "text/plain": [
       "        Company                      Investors\n",
       "0     100credit          Sequoia Capital China\n",
       "1     100credit              China Reform Fund\n",
       "2     100credit   Hillhouse Capital Management\n",
       "3       17zuoye                     DST Global\n",
       "4       17zuoye               Temasek Holdings\n",
       "...         ...                            ...\n",
       "1381      Zwift                           True\n",
       "1382      Zwift        Causeway Media Partners\n",
       "1383   Zymergen                Data Collective\n",
       "1384   Zymergen                  True Ventures\n",
       "1385   Zymergen                 SoftBank Group\n",
       "\n",
       "[1386 rows x 2 columns]"
      ],
      "text/html": "<div>\n<style scoped>\n    .dataframe tbody tr th:only-of-type {\n        vertical-align: middle;\n    }\n\n    .dataframe tbody tr th {\n        vertical-align: top;\n    }\n\n    .dataframe thead th {\n        text-align: right;\n    }\n</style>\n<table border=\"1\" class=\"dataframe\">\n  <thead>\n    <tr style=\"text-align: right;\">\n      <th></th>\n      <th>Company</th>\n      <th>Investors</th>\n    </tr>\n  </thead>\n  <tbody>\n    <tr>\n      <td>0</td>\n      <td>100credit</td>\n      <td>Sequoia Capital China</td>\n    </tr>\n    <tr>\n      <td>1</td>\n      <td>100credit</td>\n      <td>China Reform Fund</td>\n    </tr>\n    <tr>\n      <td>2</td>\n      <td>100credit</td>\n      <td>Hillhouse Capital Management</td>\n    </tr>\n    <tr>\n      <td>3</td>\n      <td>17zuoye</td>\n      <td>DST Global</td>\n    </tr>\n    <tr>\n      <td>4</td>\n      <td>17zuoye</td>\n      <td>Temasek Holdings</td>\n    </tr>\n    <tr>\n      <td>...</td>\n      <td>...</td>\n      <td>...</td>\n    </tr>\n    <tr>\n      <td>1381</td>\n      <td>Zwift</td>\n      <td>True</td>\n    </tr>\n    <tr>\n      <td>1382</td>\n      <td>Zwift</td>\n      <td>Causeway Media Partners</td>\n    </tr>\n    <tr>\n      <td>1383</td>\n      <td>Zymergen</td>\n      <td>Data Collective</td>\n    </tr>\n    <tr>\n      <td>1384</td>\n      <td>Zymergen</td>\n      <td>True Ventures</td>\n    </tr>\n    <tr>\n      <td>1385</td>\n      <td>Zymergen</td>\n      <td>SoftBank Group</td>\n    </tr>\n  </tbody>\n</table>\n<p>1386 rows × 2 columns</p>\n</div>"
     },
     "metadata": {},
     "execution_count": 32
    }
   ],
   "source": [
    "rdf = pd.DataFrame()\n",
    "rdf[\"Company\"] = np.array(r_comps)\n",
    "rdf[\"Investors\"] = np.array(r_invests)\n",
    "rdf"
   ]
  },
  {
   "cell_type": "code",
   "execution_count": 33,
   "metadata": {},
   "outputs": [],
   "source": [
    "B = nx.Graph()"
   ]
  },
  {
   "cell_type": "code",
   "execution_count": 34,
   "metadata": {},
   "outputs": [],
   "source": [
    "B.add_nodes_from(rdf[\"Company\"].unique().tolist(), bipartite=0)\n",
    "B.add_nodes_from(rdf[\"Investors\"].unique().tolist(), bipartite=1)"
   ]
  },
  {
   "cell_type": "code",
   "execution_count": 35,
   "metadata": {},
   "outputs": [],
   "source": [
    "edges = [(comp, inve) for comp, inve in zip(rdf[\"Company\"], rdf[\"Investors\"])]\n",
    "B.add_edges_from(edges)"
   ]
  },
  {
   "cell_type": "code",
   "execution_count": 38,
   "metadata": {},
   "outputs": [],
   "source": [
    "from networkx.algorithms import bipartite\n",
    "company_graph = bipartite.projected_graph(B, set(rdf[\"Company\"].tolist()))\n",
    "investor_graph = bipartite.projected_graph(B, set(rdf[\"Investors\"].tolist()))"
   ]
  },
  {
   "cell_type": "code",
   "execution_count": null,
   "metadata": {},
   "outputs": [],
   "source": []
  }
 ]
}