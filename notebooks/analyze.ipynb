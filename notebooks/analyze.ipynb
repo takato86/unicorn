{
 "metadata": {
  "language_info": {
   "codemirror_mode": {
    "name": "ipython",
    "version": 3
   },
   "file_extension": ".py",
   "mimetype": "text/x-python",
   "name": "python",
   "nbconvert_exporter": "python",
   "pygments_lexer": "ipython3",
   "version": "3.7.9-final"
  },
  "orig_nbformat": 2,
  "kernelspec": {
   "name": "python3",
   "display_name": "Python 3.7.9 64-bit ('venv')",
   "metadata": {
    "interpreter": {
     "hash": "754df5228ffc34003d56bcf4865359455bc664a8e996e13cd76cadec6f2ad005"
    }
   }
  }
 },
 "nbformat": 4,
 "nbformat_minor": 2,
 "cells": [
  {
   "cell_type": "code",
   "execution_count": 1,
   "metadata": {},
   "outputs": [],
   "source": [
    "import pandas as pd\n",
    "import os"
   ]
  },
  {
   "cell_type": "code",
   "execution_count": 2,
   "metadata": {},
   "outputs": [],
   "source": [
    "fpath = os.path.join(\"..\", \"data\", \"unicorn_company_invester.csv\")\n",
    "df = pd.read_csv(fpath, converters={\"Select Investors\": lambda x: x.split(\",\")})"
   ]
  },
  {
   "cell_type": "code",
   "execution_count": 3,
   "metadata": {},
   "outputs": [
    {
     "output_type": "execute_result",
     "data": {
      "text/plain": [
       "     Company Valuation($B) Date Joined        Country  \\\n",
       "0  100credit           $1    4/18/2018          China   \n",
       "1    17zuoye           $1     3/7/2018          China   \n",
       "2    23andMe        $2.50     7/3/2015  United States   \n",
       "3  4Paradigm           $2   12/19/2018          China   \n",
       "4  58 Daojia           $1   10/12/2015          China   \n",
       "\n",
       "                       Industry  \\\n",
       "0                       Fintech   \n",
       "1                        Edtech   \n",
       "2                        Health   \n",
       "3       Artificial intelligence   \n",
       "4  Internet software & services   \n",
       "\n",
       "                                    Select Investors  \n",
       "0  [Sequoia Capital China,  China Reform Fund,  H...  \n",
       "1                    [DST Global,  Temasek Holdings]  \n",
       "2  [Google Ventures,  New Enterprise Associates, ...  \n",
       "3  [Sequoia Capital China,  China Construction Ba...  \n",
       "4          [KKR,  Alibaba Group,  Ping An Insurance]  "
      ],
      "text/html": "<div>\n<style scoped>\n    .dataframe tbody tr th:only-of-type {\n        vertical-align: middle;\n    }\n\n    .dataframe tbody tr th {\n        vertical-align: top;\n    }\n\n    .dataframe thead th {\n        text-align: right;\n    }\n</style>\n<table border=\"1\" class=\"dataframe\">\n  <thead>\n    <tr style=\"text-align: right;\">\n      <th></th>\n      <th>Company</th>\n      <th>Valuation($B)</th>\n      <th>Date Joined</th>\n      <th>Country</th>\n      <th>Industry</th>\n      <th>Select Investors</th>\n    </tr>\n  </thead>\n  <tbody>\n    <tr>\n      <th>0</th>\n      <td>100credit</td>\n      <td>$1</td>\n      <td>4/18/2018</td>\n      <td>China</td>\n      <td>Fintech</td>\n      <td>[Sequoia Capital China,  China Reform Fund,  H...</td>\n    </tr>\n    <tr>\n      <th>1</th>\n      <td>17zuoye</td>\n      <td>$1</td>\n      <td>3/7/2018</td>\n      <td>China</td>\n      <td>Edtech</td>\n      <td>[DST Global,  Temasek Holdings]</td>\n    </tr>\n    <tr>\n      <th>2</th>\n      <td>23andMe</td>\n      <td>$2.50</td>\n      <td>7/3/2015</td>\n      <td>United States</td>\n      <td>Health</td>\n      <td>[Google Ventures,  New Enterprise Associates, ...</td>\n    </tr>\n    <tr>\n      <th>3</th>\n      <td>4Paradigm</td>\n      <td>$2</td>\n      <td>12/19/2018</td>\n      <td>China</td>\n      <td>Artificial intelligence</td>\n      <td>[Sequoia Capital China,  China Construction Ba...</td>\n    </tr>\n    <tr>\n      <th>4</th>\n      <td>58 Daojia</td>\n      <td>$1</td>\n      <td>10/12/2015</td>\n      <td>China</td>\n      <td>Internet software &amp; services</td>\n      <td>[KKR,  Alibaba Group,  Ping An Insurance]</td>\n    </tr>\n  </tbody>\n</table>\n</div>"
     },
     "metadata": {},
     "execution_count": 3
    }
   ],
   "source": [
    "df.head()"
   ]
  },
  {
   "cell_type": "code",
   "execution_count": 4,
   "metadata": {},
   "outputs": [
    {
     "output_type": "execute_result",
     "data": {
      "text/plain": [
       "0      [Sequoia Capital China,  China Reform Fund,  H...\n",
       "1                        [DST Global,  Temasek Holdings]\n",
       "2      [Google Ventures,  New Enterprise Associates, ...\n",
       "3      [Sequoia Capital China,  China Construction Ba...\n",
       "4              [KKR,  Alibaba Group,  Ping An Insurance]\n",
       "                             ...                        \n",
       "496                       [Sequoia Capital,  VY Capital]\n",
       "497    [Softbank Group,  AME Cloud Ventures,  SignalF...\n",
       "498    [Sequoia Capital China,  Xiang He Capital,  GG...\n",
       "499    [Novator Partners,  True,  Causeway Media Part...\n",
       "500    [Data Collective,  True Ventures,  SoftBank Gr...\n",
       "Name: Select Investors, Length: 501, dtype: object"
      ]
     },
     "metadata": {},
     "execution_count": 4
    }
   ],
   "source": [
    "for company in df[\"Company\"]"
   ]
  },
  {
   "cell_type": "code",
   "execution_count": null,
   "metadata": {},
   "outputs": [],
   "source": []
  }
 ]
}